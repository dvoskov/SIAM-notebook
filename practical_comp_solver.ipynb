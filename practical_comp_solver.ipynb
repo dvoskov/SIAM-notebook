{
 "cells": [
  {
   "cell_type": "markdown",
   "id": "319e0617",
   "metadata": {},
   "source": [
    "# Assignment: incompressible compositional transport for binary mixture\n"
   ]
  },
  {
   "cell_type": "markdown",
   "id": "5506c9f3",
   "metadata": {},
   "source": [
    "We introduce the mole number of component: $n_i$.\n",
    "\n",
    "Overal molar fraction of component: $z_i = {n_i}/{n_{tot}}$, where $n_{tot}=\\sum n_j$.\n",
    "\n",
    "In two phase state, mole numebr of component splits to $n_i = n_i^L + n_i^V$.\n",
    "\n",
    "Total number of moles is defined as\n",
    "\\begin{equation}\n",
    "n_{tot} = \\sum n_i^L + \\sum n_i^V = n^L + n^V \\quad \\Rightarrow \\quad 1 = \\frac{n^L}{n_{tot}} + \\frac{n^V}{n_{tot}} = L + V\n",
    "\\end{equation}\n",
    "\n",
    "Overal molar fraction can be represented as\n",
    "\\begin{equation}\n",
    "z_i = \\frac{n_i^L}{n_{tot}} + \\frac{n_i^V}{n_{tot}} = \\frac{n_i^L}{n^L} \\frac{n^L}{n_{tot}} + \\frac{n_i^V}{n^V}\\frac{n^V}{n_{tot}} = x_i L + y_i V \\qquad \\qquad \\qquad (*)\n",
    "\\end{equation}\n",
    "\n",
    "Finally, algebraic constrans for $x_i$ and $y_i$ are defined as\n",
    "\\begin{equation}\n",
    "\\sum x_i = \\sum \\frac{n_i^L}{n^L} = 1, \\quad \\sum y_i = \\sum \\frac{n_i^V}{n^V} = 1  \\quad \\Rightarrow \\quad \\sum x_i - \\sum y_i = 0 \\qquad \\qquad \\qquad (**)\n",
    "\\end{equation}\n",
    "\n",
    "Let's introduce particioning coefficients $K_i = y_i / x_i$. NExt we can substitute $y_i = K_i x_i$ and $L = 1 - V$ into equation $(*)$:\n",
    "\n",
    "\\begin{equation}\n",
    "z_i = x_i (1-V) + K_i x_i V = x_i(1-V + K_i V) = x_i (V(K_i-1)+1),\n",
    "\\end{equation}\n",
    "\n",
    "and $x_i$ can be found as\n",
    "\\begin{equation}\n",
    "x_i = \\frac{z_i}{V(K_i-1)+1}, \\quad y_i = K_i x_i = \\frac{K_i z_i}{V(K_i-1)+1}.\n",
    "\\end{equation}\n",
    "\n",
    "Fanally, we can substitute $x_i$ and $y_i$ into equations $(**)$:\n",
    "\n",
    "\\begin{equation}\n",
    "\\sum x_i - \\sum y_i = \\sum \\frac{z_i}{V(K_i-1)+1} - \\sum \\frac{K_i z_i}{V(K_i-1)+1} = \\sum \\frac{z_i (K_i -1)}{V(K_i-1)+1}\n",
    "\\end{equation}\n",
    "\n",
    "\n",
    "\n",
    "\n"
   ]
  },
  {
   "cell_type": "code",
   "execution_count": null,
   "id": "956c7919",
   "metadata": {},
   "outputs": [],
   "source": [
    "import numpy as np\n",
    "import matplotlib.pyplot as plt\n",
    "import timeit\n",
    "\n",
    "def RachforRice(z, K):\n",
    "    r = lambda v: np.sum(z * (K - 1) / (v * (K - 1) + 1))\n",
    "    a = 1 / (1 - np.max(K))\n",
    "    b = 1 / (1 - np.min(K))\n",
    "\n",
    "    for i in range(1000):\n",
    "        v = 0.5 * (a + b)\n",
    "        if r(v) > 0:\n",
    "            a = v\n",
    "        else:\n",
    "            b = v\n",
    "\n",
    "        if np.abs(r(v)) < 1e-12:\n",
    "            break\n",
    "\n",
    "    x = z / (v * (K - 1) + 1)\n",
    "    y = K * x\n",
    "\n",
    "    return x, y\n"
   ]
  },
  {
   "cell_type": "markdown",
   "id": "92475ff3",
   "metadata": {},
   "source": [
    "Fractional flow function is defined as\n",
    "\n",
    "\\begin{equation}\n",
    "f = \\frac{\\lambda_o}{\\lambda_o + \\lambda_g} = \\frac{k_{ro}}{k_{ro} + M k_{rg}}, \\ M = \\frac{\\mu_o}{\\mu_g},\n",
    "\\end{equation}\n",
    "\n",
    "with corresponding derivative\n",
    "\n",
    "\\begin{equation}\n",
    "\\frac{\\partial f}{\\partial s} = \\frac{k'_{ro}}{k_{ro} + M k_{rg}} - \\frac{k_{ro}(k'_{ro} + M k'_{rg})}{(k_{ro} + M k_{rg})^2}.\n",
    "\\end{equation}\n",
    "\n"
   ]
  },
  {
   "cell_type": "code",
   "execution_count": 2,
   "id": "62cca63c",
   "metadata": {},
   "outputs": [],
   "source": [
    "M = 10\n",
    "f  = lambda s: s**2 / (s**2 + M * (1 - s)**2)\n",
    "df_ds = lambda s: 2 * s / (s**2 + M * (1 - s)**2) - \\\n",
    "    s**2 * (2 * s - M * 2 * (1 - s)) / (s**2 + M * (1 - s)**2)**2"
   ]
  },
  {
   "cell_type": "markdown",
   "id": "5f3833e6",
   "metadata": {},
   "source": [
    "Conservation equation for incomprssible problem can be written as\n",
    "\n",
    "\\begin{equation}\n",
    "r_{c,i}= (z_c)_i^{n+1} -(z_c)_i^{n} +  \\Theta \\left[(F_c)_{i+1/2} - (F_c)_{i-1/2}\\right]=0.\n",
    "\\label{simpl_res}\n",
    "\\end{equation}\n",
    "\n",
    "\n",
    "Here we defined\n",
    "\n",
    "\\begin{equation}\n",
    "\\Theta = \\frac{U_t}{\\phi}\\frac{\\Delta t}{\\Delta x}, \\quad\n",
    "F_c = \\frac{x_c \\lambda_o + y_c \\lambda_g}{\\lambda_o + \\lambda_g} = x_c f + y_c (1-f),\n",
    "\\label{functions_res}\n",
    "\\end{equation}\n",
    "\n",
    "where $f$ is a fractional flow function of the liquid phase defined above."
   ]
  },
  {
   "cell_type": "code",
   "execution_count": null,
   "id": "18522f39",
   "metadata": {},
   "outputs": [],
   "source": [
    "def simulate_comp_expl(nb, Theta_ref, NT):\n",
    "    start = timeit.default_timer()\n",
    "    z_inj = 0.99\n",
    "    K = np.array([3, 0.1])    \n",
    "    \n",
    "    z = np.ones(nb) * 0.01\n",
    "    z[0] = z_inj\n",
    "\n",
    "\n",
    "    zf = np.array([0.5, 0.5]) \n",
    "    x, y = RachforRice(zf, K) # Single flash is enough for binary system\n",
    "    \n",
    "    Theta = Theta_ref\n",
    "    for t in range(NT):\n",
    "        s = (z - y[0]) / (x[0] - y[0])\n",
    "        F = x[0] * f(s) + y[0] * (1 - f(s))\n",
    "        F[s > 1] = z[s > 1]\n",
    "        F[s < 0] = z[s < 0]\n",
    "        z[1:nb] -= Theta * (F[1:nb] - F[0:nb-1])\n",
    "\n",
    "\n",
    "    stop = timeit.default_timer()\n",
    "\n",
    "    print('CPU = %5.3f sec, NT = %d' % ((stop - start), t))\n",
    "\n",
    "    return z\n"
   ]
  },
  {
   "cell_type": "markdown",
   "id": "cf42094e",
   "metadata": {},
   "source": [
    "For implicit compositional transport problem, we need to solve nonlienar vector equation:\n",
    "\n",
    "\\begin{equation}\n",
    "\\bf r(z^{n+1,k+1}) = 0\n",
    "\\end{equation}\n",
    "\n",
    "\n",
    "We apply the Newton-Raphson method for the solution of this equation:\n",
    "\n",
    "\\begin{equation}\n",
    "{\\bf J(z^{n+1,k})} \\Delta {\\bf z} = - \\bf r(z^{n+1,k})\n",
    "\\label{newt_raph_comp}\n",
    "\\end{equation}\n",
    "\n",
    "Here $\\Delta {\\bf z} = \\{{\\bf z}^{n+1,k+1}-{\\bf z}^{n+1,k}\\}$, $k$ is the Newton's iteration and $\\bf J$ is Jacobian entry: \n",
    "\\begin{equation}\n",
    "{\\bf J} = \\left[J_{ij}\\right]=\\left[  \\frac{\\partial r_{i} }{\\partial z_{j}} \\right].\n",
    "\\label{jacobian_comp}\n",
    "\\end{equation}\n",
    "\n",
    "\n",
    "Here each entry $J_{ij}$ in Jacobian is a matrix of $[n_c\\times n_c]$ size, where $n_c$ is the number of components.\n"
   ]
  },
  {
   "cell_type": "code",
   "execution_count": 4,
   "id": "bf42b9fd",
   "metadata": {},
   "outputs": [],
   "source": [
    "def simulate_comp_impl(nb, Theta_ref, NT):\n",
    "    start = timeit.default_timer()\n",
    "    z_inj = 0.99\n",
    "\n",
    "    z = np.ones(nb) * 0.01\n",
    "    z[0] = z_inj\n",
    "    \n",
    "    K = np.array([3, 0.1])   \n",
    "\n",
    "    i = 0\n",
    "    zf = np.array([z[i], 1-z[i]])\n",
    "    x, y = RachforRice(zf, K)\n",
    "    \n",
    "    Theta = Theta_ref\n",
    "    rhs = np.zeros(nb)\n",
    "    jac = np.zeros([nb, nb])\n",
    "    nit = 0\n",
    "    rn = range(1, nb)\n",
    "    for t in range(NT):\n",
    "        zn = np.array(z, copy=True)\n",
    "        for n in range(100):\n",
    "            if 0: # implicit\n",
    "                s = (z - y[0]) / (x[0] - y[0])\n",
    "                F = x[0] * f(s) + y[0] * (1 - f(s))\n",
    "                F[s > 1] = z[s > 1]\n",
    "                F[s < 0] = z[s < 0]\n",
    "\n",
    "                rhs[rn] = z[rn] - zn[rn] + Theta * (F[rn] - F[0:nb-1])\n",
    "                jac[0, 0] = 1.0\n",
    "                for i in rn:\n",
    "                    jac[i, i] = 1.0 + Theta * df_ds(s[i])\n",
    "                    jac[i, i-1] = - Theta * df_ds(s[i-1])\n",
    "\n",
    "            else: # explicit\n",
    "                s = (zn - y[0]) / (x[0] - y[0])\n",
    "                F = x[0] * f(s) + y[0] * (1 - f(s))\n",
    "                F[s > 1] = z[s > 1]\n",
    "                F[s < 0] = z[s < 0]\n",
    "\n",
    "                rhs[rn] = z[rn] - zn[rn] + Theta * (F[rn] - F[0:nb-1])\n",
    "                jac[0, 0] = 1.0\n",
    "                for i in rn:\n",
    "                    jac[i, i] = 1.0 \n",
    "\n",
    "                res = np.linalg.norm(rhs)\n",
    "                if (res < 1e-4):\n",
    "                    # print(\"T = %d, iter = %d, res = %e\" % (t, n, res))\n",
    "                    nit += n\n",
    "                    break\n",
    "\n",
    "                dz = np.linalg.solve(jac, -rhs)\n",
    "                z += dz\n",
    "\n",
    "\n",
    "    stop = timeit.default_timer()\n",
    "\n",
    "    print('CPU = %5.3f sec, NT = %d, NI = %d' % ((stop - start), t, nit))\n",
    "\n",
    "    return z\n"
   ]
  },
  {
   "cell_type": "code",
   "execution_count": 13,
   "id": "ef09c2f3",
   "metadata": {},
   "outputs": [
    {
     "name": "stdout",
     "output_type": "stream",
     "text": [
      "CPU = 0.004 sec, NT = 99\n",
      "CPU = 0.057 sec, NT = 99, NI = 648\n"
     ]
    },
    {
     "data": {
      "text/plain": [
       "<matplotlib.legend.Legend at 0x18ea2a6e550>"
      ]
     },
     "execution_count": 13,
     "metadata": {},
     "output_type": "execute_result"
    },
    {
     "data": {
      "image/png": "[encoded data removed]",
      "text/plain": [
       "<Figure size 432x288 with 1 Axes>"
      ]
     },
     "metadata": {
      "needs_background": "light"
     },
     "output_type": "display_data"
    }
   ],
   "source": [
    "nb = 50\n",
    "Theta = 0.2\n",
    "NT = 100\n",
    "z2 = simulate_comp_expl(nb, Theta, NT=NT)\n",
    "z1 = simulate_comp_impl(nb, Theta, NT=NT)\n",
    "\n",
    "\n",
    "x1 = np.linspace(0, 1, nb)\n",
    "plt.plot(x1, z1)\n",
    "plt.plot(x1, z2)\n",
    "plt.legend([\"Impicit\", \"Explicit\"])"
   ]
  },
  {
   "cell_type": "code",
   "execution_count": null,
   "id": "2465c266",
   "metadata": {},
   "outputs": [],
   "source": []
  }
 ],
 "metadata": {
  "kernelspec": {
   "display_name": "Python 3 (ipykernel)",
   "language": "python",
   "name": "python3"
  },
  "language_info": {
   "codemirror_mode": {
    "name": "ipython",
    "version": 3
   },
   "file_extension": ".py",
   "mimetype": "text/x-python",
   "name": "python",
   "nbconvert_exporter": "python",
   "pygments_lexer": "ipython3",
   "version": "3.9.7"
  }
 },
 "nbformat": 4,
 "nbformat_minor": 5
}
